{
  "nbformat": 4,
  "nbformat_minor": 0,
  "metadata": {
    "colab": {
      "provenance": [],
      "gpuType": "T4",
      "authorship_tag": "ABX9TyPI0BC7sM1DNYH2j3RJvdv+",
      "include_colab_link": true
    },
    "kernelspec": {
      "name": "python3",
      "display_name": "Python 3"
    },
    "language_info": {
      "name": "python"
    },
    "accelerator": "GPU"
  },
  "cells": [
    {
      "cell_type": "markdown",
      "metadata": {
        "id": "view-in-github",
        "colab_type": "text"
      },
      "source": [
        "<a href=\"https://colab.research.google.com/github/tomoakism/dotfiles/blob/main/Geoguessr_pd.ipynb\" target=\"_parent\"><img src=\"https://colab.research.google.com/assets/colab-badge.svg\" alt=\"Open In Colab\"/></a>"
      ]
    },
    {
      "cell_type": "markdown",
      "metadata": {
        "id": "BA9Oxq-YQaBf"
      },
      "source": [
        "Google Driveをマウント"
      ]
    },
    {
      "cell_type": "code",
      "execution_count": 17,
      "metadata": {
        "colab": {
          "base_uri": "https://localhost:8080/"
        },
        "id": "aIcaYo-VPAdf",
        "outputId": "21729100-464a-447f-dc19-0891964cecbc"
      },
      "outputs": [
        {
          "output_type": "stream",
          "name": "stdout",
          "text": [
            "Drive already mounted at /content/drive/; to attempt to forcibly remount, call drive.mount(\"/content/drive/\", force_remount=True).\n"
          ]
        }
      ],
      "source": [
        "from google.colab import drive\n",
        "drive.mount('/content/drive/')"
      ]
    },
    {
      "cell_type": "code",
      "execution_count": null,
      "metadata": {
        "colab": {
          "base_uri": "https://localhost:8080/"
        },
        "id": "Wu-_6ETSQmqj",
        "outputId": "3efe28ec-1fac-48ad-b807-fb1fb7a1e299"
      },
      "outputs": [
        {
          "output_type": "stream",
          "name": "stdout",
          "text": [
            "/content/drive/My Drive/Geoguessrpd\n"
          ]
        }
      ],
      "source": [
        "%cd \"/content/drive/My Drive/Geoguessrpd\""
      ]
    },
    {
      "cell_type": "markdown",
      "source": [
        "GPUに接続"
      ],
      "metadata": {
        "id": "u9oC0Dmru0cg"
      }
    },
    {
      "cell_type": "code",
      "execution_count": null,
      "metadata": {
        "id": "PDUvDSZe0WYb",
        "colab": {
          "base_uri": "https://localhost:8080/"
        },
        "outputId": "7cfaff52-101b-4375-ee23-6a99bb657b4c"
      },
      "outputs": [
        {
          "output_type": "stream",
          "name": "stdout",
          "text": [
            "cuda:0\n"
          ]
        }
      ],
      "source": [
        "import torch\n",
        "\n",
        "device = torch.device(\"cuda:0\" if torch.cuda.is_available() else \"cpu\")\n",
        "print(device)"
      ]
    },
    {
      "cell_type": "code",
      "source": [
        "!nvidia-smi"
      ],
      "metadata": {
        "colab": {
          "base_uri": "https://localhost:8080/"
        },
        "id": "tTuLbbXcx9az",
        "outputId": "40bab06f-5436-4432-df08-bb14deefa384"
      },
      "execution_count": 29,
      "outputs": [
        {
          "output_type": "stream",
          "name": "stdout",
          "text": [
            "Fri Jun 23 07:23:19 2023       \n",
            "+-----------------------------------------------------------------------------+\n",
            "| NVIDIA-SMI 525.85.12    Driver Version: 525.85.12    CUDA Version: 12.0     |\n",
            "|-------------------------------+----------------------+----------------------+\n",
            "| GPU  Name        Persistence-M| Bus-Id        Disp.A | Volatile Uncorr. ECC |\n",
            "| Fan  Temp  Perf  Pwr:Usage/Cap|         Memory-Usage | GPU-Util  Compute M. |\n",
            "|                               |                      |               MIG M. |\n",
            "|===============================+======================+======================|\n",
            "|   0  Tesla T4            Off  | 00000000:00:04.0 Off |                    0 |\n",
            "| N/A   77C    P0    34W /  70W |   2797MiB / 15360MiB |      0%      Default |\n",
            "|                               |                      |                  N/A |\n",
            "+-------------------------------+----------------------+----------------------+\n",
            "                                                                               \n",
            "+-----------------------------------------------------------------------------+\n",
            "| Processes:                                                                  |\n",
            "|  GPU   GI   CI        PID   Type   Process name                  GPU Memory |\n",
            "|        ID   ID                                                   Usage      |\n",
            "|=============================================================================|\n",
            "+-----------------------------------------------------------------------------+\n"
          ]
        }
      ]
    },
    {
      "cell_type": "markdown",
      "source": [
        "\n",
        "\n",
        "---\n",
        "\n"
      ],
      "metadata": {
        "id": "jasbK1Ci1B1y"
      }
    },
    {
      "cell_type": "markdown",
      "source": [
        "データセットを読み込むためのクラス\n"
      ],
      "metadata": {
        "id": "xZWh2w6W1Cs6"
      }
    },
    {
      "cell_type": "code",
      "execution_count": 24,
      "metadata": {
        "id": "SZnQvC0hyJnI"
      },
      "outputs": [],
      "source": [
        "from torch.utils.data import Dataset\n",
        "from PIL import Image\n",
        "import os\n",
        "\n",
        "class StreetViewDataset(Dataset):\n",
        "    def __init__(self, image_dir, transform=None):\n",
        "        self.image_dir = image_dir\n",
        "        self.image_filenames = os.listdir(image_dir)\n",
        "        self.transform = transform\n",
        "\n",
        "    def __len__(self):\n",
        "        return len(self.image_filenames)\n",
        "\n",
        "    def __getitem__(self, idx):\n",
        "        img_name = os.path.join(self.image_dir, self.image_filenames[idx])\n",
        "        image = Image.open(img_name).convert('RGB')\n",
        "\n",
        "        # ファイル名から座標を取り出す\n",
        "        coord = self.image_filenames[idx].split('_')[:2]\n",
        "        coord = [float(x) for x in coord]\n",
        "\n",
        "        if self.transform:\n",
        "            image = self.transform(image)\n",
        "\n",
        "        return image, torch.tensor(coord).to(device)"
      ]
    },
    {
      "cell_type": "markdown",
      "source": [
        "読み込んだ画像の処理"
      ],
      "metadata": {
        "id": "E3rW3XpVvIzt"
      }
    },
    {
      "cell_type": "code",
      "execution_count": 25,
      "metadata": {
        "id": "NGeBF-J8yX0l"
      },
      "outputs": [],
      "source": [
        "from torchvision import transforms\n",
        "\n",
        "transform = transforms.Compose([\n",
        "    transforms.Resize((224, 224)),\n",
        "    transforms.ToTensor(),\n",
        "    transforms.Normalize(mean=[0.485, 0.456, 0.406], std=[0.229, 0.224, 0.225]),\n",
        "])"
      ]
    },
    {
      "cell_type": "markdown",
      "source": [
        "データセットを分割"
      ],
      "metadata": {
        "id": "8IC4l3WLvODW"
      }
    },
    {
      "cell_type": "code",
      "execution_count": 26,
      "metadata": {
        "id": "vgM-GQlfyiYx"
      },
      "outputs": [],
      "source": [
        "from torch.utils.data import random_split\n",
        "\n",
        "dataset = StreetViewDataset(\"./images\", transform=transform)\n",
        "\n",
        "train_size = int(0.7 * len(dataset))\n",
        "val_size = int(0.15 * len(dataset))\n",
        "test_size = len(dataset) - train_size - val_size\n",
        "\n",
        "train_dataset, val_dataset, test_dataset = random_split(dataset, [train_size, val_size, test_size])"
      ]
    },
    {
      "cell_type": "markdown",
      "source": [
        "データセットの読み込み"
      ],
      "metadata": {
        "id": "DXd4y-_qvWxk"
      }
    },
    {
      "cell_type": "code",
      "execution_count": 27,
      "metadata": {
        "id": "qGffWYdsy2hZ"
      },
      "outputs": [],
      "source": [
        "from torch.utils.data import DataLoader\n",
        "\n",
        "batch_num = 64\n",
        "\n",
        "train_loader = DataLoader(train_dataset, batch_size=batch_num, shuffle=True)\n",
        "val_loader = DataLoader(val_dataset, batch_size=batch_num, shuffle=True)\n",
        "test_loader = DataLoader(test_dataset, batch_size=batch_num, shuffle=True)"
      ]
    },
    {
      "cell_type": "markdown",
      "source": [
        "学習済みResNet-50モデルの作成"
      ],
      "metadata": {
        "id": "8_7TpPcJvezj"
      }
    },
    {
      "cell_type": "code",
      "execution_count": 28,
      "metadata": {
        "id": "3WQbGAdmzDIc",
        "colab": {
          "base_uri": "https://localhost:8080/"
        },
        "outputId": "76059ed7-b232-465d-9e49-15be468bfc77"
      },
      "outputs": [
        {
          "output_type": "stream",
          "name": "stderr",
          "text": [
            "/usr/local/lib/python3.10/dist-packages/torchvision/models/_utils.py:208: UserWarning: The parameter 'pretrained' is deprecated since 0.13 and may be removed in the future, please use 'weights' instead.\n",
            "  warnings.warn(\n",
            "/usr/local/lib/python3.10/dist-packages/torchvision/models/_utils.py:223: UserWarning: Arguments other than a weight enum or `None` for 'weights' are deprecated since 0.13 and may be removed in the future. The current behavior is equivalent to passing `weights=ResNet50_Weights.IMAGENET1K_V1`. You can also use `weights=ResNet50_Weights.DEFAULT` to get the most up-to-date weights.\n",
            "  warnings.warn(msg)\n"
          ]
        }
      ],
      "source": [
        "from torchvision import models\n",
        "\n",
        "model = models.resnet50(pretrained=True)\n",
        "\n",
        "# 事前学習済みのレイヤーを固定\n",
        "for param in model.parameters():\n",
        "    param.requires_grad = False\n",
        "\n",
        "# 最終レイヤーを変更\n",
        "model.fc = torch.nn.Linear(model.fc.in_features, 2)\n",
        "\n",
        "model = model.to(device)"
      ]
    },
    {
      "cell_type": "markdown",
      "source": [
        "ファインチューニング"
      ],
      "metadata": {
        "id": "0q5P1XdLvt2t"
      }
    },
    {
      "cell_type": "code",
      "source": [
        "import torch.optim as optim\n",
        "\n",
        "criterion = torch.nn.MSELoss()\n",
        "optimizer = optim.Adam(model.parameters())\n",
        "\n",
        "train_losses = []\n",
        "val_losses = []"
      ],
      "metadata": {
        "id": "poNReVuy2NvZ"
      },
      "execution_count": 30,
      "outputs": []
    },
    {
      "cell_type": "markdown",
      "source": [
        "\n",
        "\n",
        "---\n",
        "\n",
        "学習済みモデルを読み込む\n"
      ],
      "metadata": {
        "id": "mYcry0Nmw5M2"
      }
    },
    {
      "cell_type": "markdown",
      "source": [
        "Batch 256"
      ],
      "metadata": {
        "id": "H0Jy9tiOKAa6"
      }
    },
    {
      "cell_type": "code",
      "source": [
        "checkpoint = torch.load('model_256.pth')\n",
        "model.load_state_dict(checkpoint['model_state_dict'])\n",
        "optimizer.load_state_dict(checkpoint['optimizer_state_dict'])\n"
      ],
      "metadata": {
        "id": "QU8Nx0PtENL8"
      },
      "execution_count": null,
      "outputs": []
    },
    {
      "cell_type": "code",
      "source": [
        "import pickle\n",
        "\n",
        "f = open('./train_loss_list.txt','rb')\n",
        "train_losses = pickle.load(f)\n",
        "\n",
        "f = open('./val_loss_list.txt','rb')\n",
        "val_losses = pickle.load(f)"
      ],
      "metadata": {
        "id": "_JNa7tq9xw6y"
      },
      "execution_count": null,
      "outputs": []
    },
    {
      "cell_type": "markdown",
      "source": [
        "Batch 64"
      ],
      "metadata": {
        "id": "fhksjhFnKDIn"
      }
    },
    {
      "cell_type": "code",
      "source": [
        "checkpoint = torch.load('model_64.pth')\n",
        "model.load_state_dict(checkpoint['model_state_dict'])\n",
        "optimizer.load_state_dict(checkpoint['optimizer_state_dict'])\n"
      ],
      "metadata": {
        "id": "moBxH1sqKHII"
      },
      "execution_count": 31,
      "outputs": []
    },
    {
      "cell_type": "code",
      "source": [
        "import pickle\n",
        "\n",
        "f = open('./train_loss_list_64.txt','rb')\n",
        "train_losses = pickle.load(f)\n",
        "\n",
        "f = open('./val_loss_list_64.txt','rb')\n",
        "val_losses = pickle.load(f)"
      ],
      "metadata": {
        "id": "r7x4ss8vKIz8"
      },
      "execution_count": 32,
      "outputs": []
    },
    {
      "cell_type": "markdown",
      "source": [
        "\n",
        "\n",
        "---\n",
        "\n"
      ],
      "metadata": {
        "id": "ApfLeqqRxDhk"
      }
    },
    {
      "cell_type": "code",
      "source": [
        "num_epochs = 10"
      ],
      "metadata": {
        "id": "Rm2XpfMUwVO8"
      },
      "execution_count": 34,
      "outputs": []
    },
    {
      "cell_type": "code",
      "execution_count": 35,
      "metadata": {
        "id": "N86v-_WHzKT5",
        "colab": {
          "base_uri": "https://localhost:8080/"
        },
        "outputId": "a6a2bb0e-5c7a-43d5-8231-cadf353fd360"
      },
      "outputs": [
        {
          "output_type": "stream",
          "name": "stdout",
          "text": [
            "Epoch 1, Train Loss: 2635.195613236861, Validation Loss: 2523.9376678466797\n",
            "Epoch 2, Train Loss: 2634.5179643110796, Validation Loss: 2529.7439626057944\n",
            "Epoch 3, Train Loss: 2629.3473510742188, Validation Loss: 2570.2941538492837\n",
            "Epoch 4, Train Loss: 2619.934616921165, Validation Loss: 2541.1630655924478\n",
            "Epoch 5, Train Loss: 2616.2887961647725, Validation Loss: 2555.2272338867188\n",
            "Epoch 6, Train Loss: 2608.2193592418325, Validation Loss: 2534.7966918945312\n",
            "Epoch 7, Train Loss: 2600.414014781605, Validation Loss: 2539.5494384765625\n",
            "Epoch 8, Train Loss: 2602.646240234375, Validation Loss: 2519.0567932128906\n",
            "Epoch 9, Train Loss: 2590.5395962801845, Validation Loss: 2522.960194905599\n",
            "Epoch 10, Train Loss: 2593.0158813476564, Validation Loss: 2510.0174001057944\n"
          ]
        }
      ],
      "source": [
        "for epoch in range(num_epochs):\n",
        "    train_loss = 0.0\n",
        "    val_loss = 0.0\n",
        "\n",
        "    model.train()\n",
        "    for inputs, labels in train_loader:\n",
        "      inputs, labels = inputs.to(device), labels.to(device)\n",
        "\n",
        "      optimizer.zero_grad()\n",
        "\n",
        "      outputs = model(inputs)\n",
        "      loss = criterion(outputs, labels)\n",
        "      loss.backward()\n",
        "      optimizer.step()\n",
        "\n",
        "      train_loss += loss.item()\n",
        "\n",
        "    model.eval()\n",
        "    with torch.no_grad():\n",
        "        for inputs, labels in val_loader:\n",
        "            inputs, labels = inputs.to(device), labels.to(device)\n",
        "            outputs = model(inputs)\n",
        "            loss = criterion(outputs, labels)\n",
        "            val_loss += loss.item()\n",
        "\n",
        "    train_loss = train_loss / len(train_loader)\n",
        "    val_loss = val_loss / len(val_loader)\n",
        "    train_losses.append(train_loss)\n",
        "    val_losses.append(val_loss)\n",
        "\n",
        "    print(f'Epoch {epoch+1}, Train Loss: {train_loss}, Validation Loss: {val_loss}')"
      ]
    },
    {
      "cell_type": "markdown",
      "source": [
        "ロスをプロット"
      ],
      "metadata": {
        "id": "GxqQ6QFzwgLh"
      }
    },
    {
      "cell_type": "code",
      "execution_count": 36,
      "metadata": {
        "colab": {
          "base_uri": "https://localhost:8080/"
        },
        "id": "hcaASbJobrZj",
        "outputId": "151b3247-5990-42b7-b3cc-421064f50605"
      },
      "outputs": [
        {
          "output_type": "stream",
          "name": "stdout",
          "text": [
            "Training losses: [3437.773965731534, 3327.0638117009944, 3248.3892134232956, 3182.6600186434657, 3138.616439541903, 3093.091679243608, 3055.4022061434657, 3010.686492365057, 2983.342549272017, 2944.340234375, 2925.102743252841, 2909.987462269176, 2896.4831099076705, 2858.5384055397726, 2848.3869273792616, 2827.5058061079544, 2812.308085493608, 2790.148643909801, 2779.9727195046166, 2761.046179199219, 2760.966396262429, 2745.0953579989346, 2741.6004583185368, 2727.4944446910513, 2713.8450417258523, 2708.930939275568, 2707.578085049716, 2679.2102683327416, 2678.9891046697444, 2670.405536443537, 2669.9269309303977, 2666.2084361683237, 2654.400702459162, 2640.55029296875, 2631.2712757457384, 2636.124168812145, 2633.859832208807, 2640.8598876953124, 2616.7219959605823, 2616.31718528054, 2635.195613236861, 2634.5179643110796, 2629.3473510742188, 2619.934616921165, 2616.2887961647725, 2608.2193592418325, 2600.414014781605, 2602.646240234375, 2590.5395962801845, 2593.0158813476564]\n",
            "Validation losses: [3324.120920817057, 3250.4772135416665, 3200.715362548828, 3138.279256184896, 3093.7508951822915, 3036.7188110351562, 3021.43603515625, 2991.389658610026, 2968.766530354818, 2923.5816548665366, 2893.228342692057, 2920.190684000651, 2861.3536682128906, 2843.3479817708335, 2839.773691813151, 2824.7347819010415, 2813.7164204915366, 2790.2598978678384, 2786.5652058919272, 2782.5929667154946, 2774.019948323568, 2761.618723551432, 2747.222646077474, 2753.2643381754556, 2747.021169026693, 2731.2967732747397, 2722.8216756184897, 2738.031748453776, 2718.2310180664062, 2707.462636311849, 2523.9376678466797, 2529.7439626057944, 2570.2941538492837, 2541.1630655924478, 2555.2272338867188, 2534.7966918945312, 2539.5494384765625, 2519.0567932128906, 2522.960194905599, 2510.0174001057944]\n",
            "50\n"
          ]
        }
      ],
      "source": [
        "print(f\"Training losses: {train_losses}\")\n",
        "print(f\"Validation losses: {val_losses}\")\n",
        "print(len(train_losses))"
      ]
    },
    {
      "cell_type": "code",
      "execution_count": 37,
      "metadata": {
        "colab": {
          "base_uri": "https://localhost:8080/",
          "height": 449
        },
        "id": "onQnaGtIDjBs",
        "outputId": "343afc7d-edf0-427b-a3de-f1e4de44cd2f"
      },
      "outputs": [
        {
          "output_type": "display_data",
          "data": {
            "text/plain": [
              "<Figure size 640x480 with 1 Axes>"
            ],
            "image/png": "[encoded data removed]"
          },
          "metadata": {}
        }
      ],
      "source": [
        "import matplotlib.pyplot as plt\n",
        "\n",
        "plt.plot(train_losses, label='Training loss')\n",
        "plt.plot(val_losses, label='Validation loss')\n",
        "plt.xlabel('Epoch')\n",
        "plt.ylabel('Loss')\n",
        "plt.legend()\n",
        "plt.show()"
      ]
    },
    {
      "cell_type": "markdown",
      "source": [
        "モデルをセーブ"
      ],
      "metadata": {
        "id": "tDFhAvlSwvS3"
      }
    },
    {
      "cell_type": "markdown",
      "source": [
        "Batch 256"
      ],
      "metadata": {
        "id": "RhdpVQEYJkes"
      }
    },
    {
      "cell_type": "code",
      "source": [
        "checkpoint = {\n",
        "    'model_state_dict': model.state_dict(),\n",
        "    'optimizer_state_dict': optimizer.state_dict()\n",
        "}\n",
        "torch.save(checkpoint, 'model_256.pth')\n"
      ],
      "metadata": {
        "id": "UrxgatbXuiXp"
      },
      "execution_count": null,
      "outputs": []
    },
    {
      "cell_type": "code",
      "source": [
        "import pickle\n",
        "f = open('./train_loss_list.txt', 'wb')\n",
        "list_row = train_losses\n",
        "pickle.dump(list_row, f)\n",
        "\n",
        "f = open('./val_loss_list.txt', 'wb')\n",
        "list_row = val_losses\n",
        "pickle.dump(list_row, f)\n"
      ],
      "metadata": {
        "id": "FygBo6ufmlhv"
      },
      "execution_count": null,
      "outputs": []
    },
    {
      "cell_type": "markdown",
      "source": [
        "batch 64"
      ],
      "metadata": {
        "id": "RUxPheZ3Jlun"
      }
    },
    {
      "cell_type": "code",
      "source": [
        "checkpoint = {\n",
        "    'model_state_dict': model.state_dict(),\n",
        "    'optimizer_state_dict': optimizer.state_dict()\n",
        "}\n",
        "torch.save(checkpoint, 'model_64_50epch.pth')\n"
      ],
      "metadata": {
        "id": "E4T3fKgpJrAB"
      },
      "execution_count": 38,
      "outputs": []
    },
    {
      "cell_type": "code",
      "source": [
        "import pickle\n",
        "f = open('./train_loss_list_64_50epch.txt', 'wb')\n",
        "list_row = train_losses\n",
        "pickle.dump(list_row, f)\n",
        "\n",
        "f = open('./val_loss_list_64_50epch.txt', 'wb')\n",
        "list_row = val_losses\n",
        "pickle.dump(list_row, f)\n"
      ],
      "metadata": {
        "id": "KOKsiJaOJxyy"
      },
      "execution_count": 39,
      "outputs": []
    },
    {
      "cell_type": "markdown",
      "source": [
        "モデルのテスト"
      ],
      "metadata": {
        "id": "PytZKTDU2gLH"
      }
    },
    {
      "cell_type": "markdown",
      "source": [
        "モデルをチェックポイントからロード"
      ],
      "metadata": {
        "id": "zL1gDl2A2lgc"
      }
    },
    {
      "cell_type": "code",
      "source": [
        "checkpoint = torch.load('model_256.pth')\n",
        "model.load_state_dict(checkpoint['model_state_dict'])"
      ],
      "metadata": {
        "id": "3Gt4yAbp2njp"
      },
      "execution_count": null,
      "outputs": []
    },
    {
      "cell_type": "code",
      "source": [
        "model = model.to(device)\n",
        "model.eval()\n",
        "\n",
        "total_loss = 0\n",
        "\n",
        "# テストデータを学習済みモデルでテスト\n",
        "with torch.no_grad():\n",
        "    for inputs, labels in test_loader:\n",
        "        inputs, labels = inputs.to(device), labels.to(device)\n",
        "        outputs = model(inputs)\n",
        "        loss = criterion(outputs, labels)\n",
        "        total_loss += loss.item() * inputs.size(0)\n",
        "\n",
        "avg_loss = total_loss / len(test_loader.dataset)\n",
        "\n",
        "print('Test Loss:', avg_loss)"
      ],
      "metadata": {
        "id": "kSx6ijzV2ieP"
      },
      "execution_count": null,
      "outputs": []
    },
    {
      "cell_type": "markdown",
      "source": [
        "単一画像の予測"
      ],
      "metadata": {
        "id": "xM0Q7U_SOeXC"
      }
    },
    {
      "cell_type": "code",
      "source": [
        "image_path = 'path_to_your_image.jpg'\n",
        "image = Image.open(image_path).convert('RGB')\n",
        "image = transform(image)\n",
        "image = image.unsqueeze(0)\n",
        "image = image.to(device)"
      ],
      "metadata": {
        "id": "tc2pXXVIOg5E"
      },
      "execution_count": null,
      "outputs": []
    },
    {
      "cell_type": "code",
      "source": [
        "model.eval()\n",
        "with torch.no_grad():\n",
        "    prediction = model(image)"
      ],
      "metadata": {
        "id": "QwGlJeriOply"
      },
      "execution_count": null,
      "outputs": []
    }
  ]
}